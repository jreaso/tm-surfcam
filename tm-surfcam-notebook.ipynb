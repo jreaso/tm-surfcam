{
 "cells": [
  {
   "cell_type": "markdown",
   "id": "56958d42-70d3-49aa-9eab-1c55e89cab7e",
   "metadata": {},
   "source": [
    "# Time Machine Surf Cam\n",
    "\n",
    "This is a primitive intial version and simply implements a nearest neighbour approach on key features which have been chosen some what arbitrarily (informed decision) and have all been given equal weight.\n",
    "\n",
    "We first load the data in from the database.\n",
    "\n",
    "## Data Loading\n",
    "\n",
    "In this notebook, we are working off a duplicate of the 04/10/23 version of the [surf-forecast-videos](https://github.com/jreaso/surf-forecast-videos) dataset."
   ]
  },
  {
   "cell_type": "code",
   "execution_count": null,
   "id": "d0d03d14-be8c-491a-aaf1-68ed4c3cccb8",
   "metadata": {},
   "outputs": [],
   "source": []
  }
 ],
 "metadata": {
  "kernelspec": {
   "display_name": "Python 3 (ipykernel)",
   "language": "python",
   "name": "python3"
  },
  "language_info": {
   "codemirror_mode": {
    "name": "ipython",
    "version": 3
   },
   "file_extension": ".py",
   "mimetype": "text/x-python",
   "name": "python",
   "nbconvert_exporter": "python",
   "pygments_lexer": "ipython3",
   "version": "3.9.13"
  }
 },
 "nbformat": 4,
 "nbformat_minor": 5
}
